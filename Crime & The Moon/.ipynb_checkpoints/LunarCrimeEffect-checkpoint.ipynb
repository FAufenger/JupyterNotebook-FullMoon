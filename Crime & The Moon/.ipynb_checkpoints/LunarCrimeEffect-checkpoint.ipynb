{
 "cells": [
  {
   "cell_type": "markdown",
   "metadata": {},
   "source": [
    "# Prework"
   ]
  },
  {
   "cell_type": "code",
   "execution_count": null,
   "metadata": {},
   "outputs": [],
   "source": [
    "#import kaggle\n",
    "#kaggle.api.authenticate()\n",
    "#kaggle.api.dataset_download_files('API command here', path='Resources', unzip=True)\n",
    "\n",
    "#API commands used from Kaggle:\n",
    "#Boston: AnalyzeBoston/crimes-in-boston\n",
    "#Baltimore: sohier/crime-in-baltimore\n",
    "#Philadelphia: mchirico/philadelphiacrimedata\n",
    "#Solar & Lunar: nasa/solar-eclipses\n",
    "#Full Moon: lsind18/full-moon-calendar-1900-2050"
   ]
  },
  {
   "cell_type": "code",
   "execution_count": 8,
   "metadata": {},
   "outputs": [],
   "source": [
    "# #Dependencies\n",
    "# import pandas as pd\n",
    "# import numpy as np\n",
    "# import os\n",
    "# import time\n",
    "\n",
    "# #File load\n",
    "# boston = \"Resources/boston_crime_data.csv\"\n",
    "# philadelphia = \"Resources/philadelphia_crime_data.csv\"\n",
    "# baltimore = \"Resources/balitmore_crime_data.csv\"\n",
    "\n",
    "# #Read file and store into pandas data frame\n",
    "# boston_data_df = pd.read_csv(boston, sep = ',')\n",
    "# philadelphia_data_df = pd.read_csv(philadelphia, sep = ',')\n",
    "# baltimore_data_df = pd.read_csv(baltimore, sep = ',')\n"
   ]
  },
  {
   "cell_type": "code",
   "execution_count": null,
   "metadata": {},
   "outputs": [],
   "source": [
    "#boston_data_df.head()\n",
    "#baltimore_data_df.head()\n",
    "#philadelphia_data_df.head()"
   ]
  },
  {
   "cell_type": "code",
   "execution_count": null,
   "metadata": {},
   "outputs": [],
   "source": [
    "# #Sort through data to make smaller, finding only requested year\n",
    "# #Philadephia\n",
    "# philadelphia_data_df['Dispatch_Date']= pd.to_datetime(philadelphia_data_df['Dispatch_Date'])\n",
    "# philadelphia_data_df2 = philadelphia_data_df[philadelphia_data_df['Dispatch_Date'].dt.year == 2016]\n",
    "# philadelphia_data_df3 = philadelphia_data_df2[['Dispatch_Date', 'Text_General_Code']].copy()\n",
    "# philadelphia_data_df3['Text_General_Code'].value_counts()\n",
    "\n",
    "# #Original files too large to upload to GitHub. \n",
    "# #Isolated year 2016, selected desired columns then saved and uploaded shortened version\n",
    "# philadelphia_data_df3.to_csv('Resources/philadelphia_data_df3.csv')"
   ]
  },
  {
   "cell_type": "code",
   "execution_count": null,
   "metadata": {},
   "outputs": [],
   "source": [
    "# #Sort through data to make smaller, finding only requested year\n",
    "# #Boston\n",
    "# boston_data_df['OCCURRED_ON_DATE']= pd.to_datetime(boston_data_df['OCCURRED_ON_DATE'])\n",
    "# boston_data_df2 = boston_data_df[boston_data_df['OCCURRED_ON_DATE'].dt.year == 2016]\n",
    "\n",
    "# #Original files too large to upload to GitHub. \n",
    "# #Isolated year 2016 then saved and uploaded shortened version\n",
    "# boston_data_df2.to_csv('Resources/boston_data_df3.csv')"
   ]
  },
  {
   "cell_type": "code",
   "execution_count": null,
   "metadata": {},
   "outputs": [],
   "source": [
    "# #Sort through data to make smaller, finding only requested year\n",
    "# #Baltimore\n",
    "# baltimore_data_df['CrimeDate']= pd.to_datetime(baltimore_data_df['CrimeDate'])\n",
    "# baltimore_data_df2 = baltimore_data_df[baltimore_data_df['CrimeDate'].dt.year == 2016]\n",
    "\n",
    "# #Original files too large to upload to GitHub. \n",
    "# #Isolated year 2016 then saved and uploaded shortened version\n",
    "# baltimore_data_df2.to_csv('Resources/baltimore_data_df3.csv')"
   ]
  },
  {
   "cell_type": "markdown",
   "metadata": {},
   "source": [
    "# Lunar cycle effects on three major cities in eastern North America\n"
   ]
  },
  {
   "cell_type": "code",
   "execution_count": 71,
   "metadata": {},
   "outputs": [],
   "source": [
    "#Dependencies\n",
    "import pandas as pd\n",
    "import numpy as np\n",
    "import os\n",
    "import time\n",
    "\n",
    "#Load files\n",
    "boston = \"Resources/boston_data_df3.csv\"\n",
    "philadelphia = \"Resources/philadelphia_data_df3.csv\"\n",
    "baltimore = \"Resources/baltimore_data_df3.csv\"\n",
    "solar = \"Resources/solar.csv\"\n",
    "lunar = \"Resources/lunar.csv\"\n",
    "full_moon = \"Resources/full_moon.csv\"\n",
    "\n",
    "\n",
    "#Read file and store into pandas data frame\n",
    "boston_df = pd.read_csv(boston, sep = ',')\n",
    "philadelphia_crime_df = pd.read_csv(philadelphia, sep = ',')\n",
    "baltimore_df = pd.read_csv(baltimore, sep = ',')\n",
    "solar_df = pd.read_csv(solar, sep = ',')\n",
    "lunar_df = pd.read_csv(lunar, sep = ',')\n",
    "full_moon_data_df = pd.read_csv(full_moon, sep = ',')\n"
   ]
  },
  {
   "cell_type": "code",
   "execution_count": 72,
   "metadata": {},
   "outputs": [],
   "source": [
    "#Shorten  data frames to get just desired columns\n",
    "#Boston\n",
    "boston_crime_df = boston_df[['OCCURRED_ON_DATE','OFFENSE_CODE_GROUP' ,'OFFENSE_DESCRIPTION']].copy()\n",
    "\n",
    "#Baltimore\n",
    "baltimore_crime_df = baltimore_df[['CrimeDate', 'Description', 'Weapon']].copy()\n",
    "# baltimore_data_df3['Description'].value_counts()\n",
    "\n",
    "#Philadelphie: \n",
    "# data already redcued in order to fit in git hub repository\n",
    "\n",
    "#Solar eclipse\n",
    "#sort desired columns\n",
    "solar_data_df = solar_df[['Calendar Date', 'Eclipse Time', 'Gamma', 'Eclipse Magnitude']].copy()\n",
    "#sort desired year\n",
    "solar_data_df['Calendar Date']= pd.to_datetime(solar_data_df['Calendar Date'], errors = 'coerce')\n",
    "solar_eclipse_df = solar_data_df[solar_data_df['Calendar Date'].dt.year == 2016]\n",
    "\n",
    "\n",
    "#Lunar eclipse\n",
    "#sort desired columns\n",
    "lunar_data_df = lunar_df[['Calendar Date', 'Eclipse Time', 'Gamma', 'Penumbral Eclipse Duration (m)', \\\n",
    "                             'Partial Eclipse Duration (m)', 'Total Eclipse Duration (m)']].copy()\n",
    "#sort desired year\n",
    "lunar_data_df['Calendar Date']= pd.to_datetime(lunar_data_df['Calendar Date'], errors = 'coerce')\n",
    "lunar_eclipse_df = lunar_data_df[lunar_data_df['Calendar Date'].dt.year == 2016]\n",
    "\n",
    "#Full Moon\n",
    "#fix columns by renaming (removing space before name)\n",
    "full_moon_data_df.columns = ['Day', 'Date', 'Time']\n",
    "#set column date as date_time and sort to get desired year\n",
    "full_moon_data_df['Date']= pd.to_datetime(full_moon_data_df['Date'])\n",
    "full_moon_df = full_moon_data_df[full_moon_data_df['Date'].dt.year == 2016]"
   ]
  },
  {
   "cell_type": "code",
   "execution_count": 73,
   "metadata": {},
   "outputs": [],
   "source": [
    "#boston_crime_df.head()\n",
    "#baltimore_crime_df.head()\n",
    "#philadelphia_crime_df.head()\n",
    "#solar_eclipse_df.head()\n",
    "#lunar_eclipse_df.head()\n",
    "#full_moon_df"
   ]
  },
  {
   "cell_type": "code",
   "execution_count": null,
   "metadata": {},
   "outputs": [],
   "source": []
  }
 ],
 "metadata": {
  "celltoolbar": "Raw Cell Format",
  "kernelspec": {
   "display_name": "Python [conda env:PythonData] *",
   "language": "python",
   "name": "conda-env-PythonData-py"
  },
  "language_info": {
   "codemirror_mode": {
    "name": "ipython",
    "version": 3
   },
   "file_extension": ".py",
   "mimetype": "text/x-python",
   "name": "python",
   "nbconvert_exporter": "python",
   "pygments_lexer": "ipython3",
   "version": "3.6.10"
  }
 },
 "nbformat": 4,
 "nbformat_minor": 4
}
