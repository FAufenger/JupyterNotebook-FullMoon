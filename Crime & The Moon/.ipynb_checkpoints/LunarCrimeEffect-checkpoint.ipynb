{
 "cells": [
  {
   "cell_type": "markdown",
   "metadata": {},
   "source": [
    "# Prework"
   ]
  },
  {
   "cell_type": "code",
   "execution_count": null,
   "metadata": {},
   "outputs": [],
   "source": [
    "#Random information to test the MERGE!!!!"
   ]
  },
  {
   "cell_type": "code",
   "execution_count": null,
   "metadata": {},
   "outputs": [],
   "source": [
    "#Adding new stuff to the project for testing purposes!!!"
   ]
  },
  {
   "cell_type": "code",
   "execution_count": null,
   "metadata": {},
   "outputs": [],
   "source": [
    "#import kaggle\n",
    "#kaggle.api.authenticate()\n",
    "#kaggle.api.dataset_download_files('API command here', path='Resources', unzip=True)\n",
    "\n",
    "#API commands used from Kaggle:\n",
    "#Boston: AnalyzeBoston/crimes-in-boston\n",
    "#Baltimore: sohier/crime-in-baltimore\n",
    "#Philadelphia: mchirico/philadelphiacrimedata\n",
    "#Solar & Lunar: nasa/solar-eclipses\n",
    "#Full Moon: lsind18/full-moon-calendar-1900-2050"
   ]
  },
  {
   "cell_type": "code",
   "execution_count": null,
   "metadata": {},
   "outputs": [],
   "source": [
    "# #Dependencies\n",
    "# import pandas as pd\n",
    "# import numpy as np\n",
    "# import os\n",
    "# import time\n",
    "\n",
    "# #File load\n",
    "# boston = \"Resources/boston_crime_data.csv\"\n",
    "# philadelphia = \"Resources/philadelphia_crime_data.csv\"\n",
    "# baltimore = \"Resources/balitmore_crime_data.csv\"\n",
    "\n",
    "# #Read file and store into pandas data frame\n",
    "# boston_data_df = pd.read_csv(boston, sep = ',')\n",
    "# philadelphia_data_df = pd.read_csv(philadelphia, sep = ',')\n",
    "# baltimore_data_df = pd.read_csv(baltimore, sep = ',')\n"
   ]
  },
  {
   "cell_type": "code",
   "execution_count": null,
   "metadata": {},
   "outputs": [],
   "source": [
    "#boston_data_df.head()\n",
    "#baltimore_data_df.head()\n",
    "#philadelphia_data_df.head()"
   ]
  },
  {
   "cell_type": "code",
   "execution_count": null,
   "metadata": {},
   "outputs": [],
   "source": [
    "# #Sort through data to make smaller, finding only requested year\n",
    "# #Philadephia\n",
    "# philadelphia_data_df['Dispatch_Date']= pd.to_datetime(philadelphia_data_df['Dispatch_Date'])\n",
    "# philadelphia_data_df2 = philadelphia_data_df[philadelphia_data_df['Dispatch_Date'].dt.year == 2016]\n",
    "# #Also reduce column size to fit into git repository \n",
    "# philadelphia_data_df3 = philadelphia_data_df2[['Dispatch_Date', 'Text_General_Code']].copy()\n",
    "# philadelphia_data_df3['Text_General_Code'].value_counts()\n",
    "\n",
    "# #Original files too large to upload to GitHub. \n",
    "# #Isolated year 2016, selected desired columns then saved and uploaded shortened version\n",
    "# philadelphia_data_df3.to_csv('Resources/philadelphia_data_df3.csv')"
   ]
  },
  {
   "cell_type": "code",
   "execution_count": null,
   "metadata": {},
   "outputs": [],
   "source": [
    "# #Sort through data to make smaller, finding only requested year\n",
    "# #Boston\n",
    "# boston_data_df['OCCURRED_ON_DATE']= pd.to_datetime(boston_data_df['OCCURRED_ON_DATE'])\n",
    "# boston_data_df2 = boston_data_df[boston_data_df['OCCURRED_ON_DATE'].dt.year == 2016]\n",
    "\n",
    "# #Original files too large to upload to GitHub. \n",
    "# #Isolated year 2016 then saved and uploaded shortened version\n",
    "# boston_data_df2.to_csv('Resources/boston_data_df3.csv')"
   ]
  },
  {
   "cell_type": "code",
   "execution_count": null,
   "metadata": {},
   "outputs": [],
   "source": [
    "# #Sort through data to make smaller, finding only requested year\n",
    "# #Baltimore\n",
    "# baltimore_data_df['CrimeDate']= pd.to_datetime(baltimore_data_df['CrimeDate'])\n",
    "# baltimore_data_df2 = baltimore_data_df[baltimore_data_df['CrimeDate'].dt.year == 2016]\n",
    "\n",
    "# #Original files too large to upload to GitHub. \n",
    "# #Isolated year 2016 then saved and uploaded shortened version\n",
    "# baltimore_data_df2.to_csv('Resources/baltimore_data_df3.csv')"
   ]
  },
  {
   "cell_type": "markdown",
   "metadata": {},
   "source": [
    "# Lunar cycle effects on three major cities in eastern North America\n"
   ]
  },
  {
   "cell_type": "code",
   "execution_count": 1,
   "metadata": {},
   "outputs": [],
   "source": [
    "#Dependencies\n",
    "import pandas as pd\n",
    "import numpy as np\n",
    "import os\n",
    "import time\n",
    "\n",
    "#Load files\n",
    "boston = \"Resources/boston_data_df3.csv\"\n",
    "philadelphia = \"Resources/philadelphia_data_df3.csv\"\n",
    "baltimore = \"Resources/baltimore_data_df3.csv\"\n",
    "solar = \"Resources/solar.csv\"\n",
    "lunar = \"Resources/lunar.csv\"\n",
    "full_moon = \"Resources/full_moon.csv\"\n",
    "\n",
    "\n",
    "#Read file and store into pandas data frame\n",
    "boston_df = pd.read_csv(boston, sep = ',')\n",
    "philadelphia_crime_2016 = pd.read_csv(philadelphia, sep = ',')\n",
    "baltimore_df = pd.read_csv(baltimore, sep = ',')\n",
    "solar_df = pd.read_csv(solar, sep = ',')\n",
    "lunar_df = pd.read_csv(lunar, sep = ',')\n",
    "full_moon_data_df = pd.read_csv(full_moon, sep = ',')\n"
   ]
  },
  {
   "cell_type": "code",
   "execution_count": 2,
   "metadata": {},
   "outputs": [],
   "source": [
    "#Shorten  data frames to get just desired columns\n",
    "#Boston\n",
    "boston_crime_2016 = boston_df[['OCCURRED_ON_DATE','OFFENSE_CODE_GROUP' ,'OFFENSE_DESCRIPTION']].copy()\n",
    "boston_crime_2016['OCCURRED_ON_DATE'] = pd.to_datetime(boston_crime_2016['OCCURRED_ON_DATE']).dt.normalize()\n",
    "boston_crime_2016.rename(columns = {'OCCURRED_ON_DATE':'Crime Date', 'OFFENSE_CODE_GROUP':'Offense Description',\n",
    "                                    'OFFENSE_DESCRIPTION':'Offense Specific' }, inplace = True)\n",
    "\n",
    "#Baltimore\n",
    "baltimore_crime_2016 = baltimore_df[['CrimeDate', 'Description', 'Weapon']].copy()\n",
    "baltimore_crime_2016.rename(columns = {'CrimeDate':'Crime Date', 'Description':'Offense Description'}, inplace = True)\n",
    "# baltimore_data_df3['Description'].value_counts()\n",
    "\n",
    "#Philadelphia: \n",
    "# data already redcued in order to fit in git hub repository\n",
    "philadelphia_crime_2016.rename(columns = {'Unnamed: 0': 'Prior Index', 'Dispatch_Date':'Crime Date', 'Text_General_Code':'Offense Description'}, inplace = True)\n",
    "#del philadelphia_crime_2016['Unnamed: 0']\n",
    "\n",
    "#Solar eclipse\n",
    "#sort desired columns\n",
    "solar_data_df = solar_df[['Calendar Date', 'Eclipse Time', 'Gamma', 'Eclipse Magnitude']].copy()\n",
    "#sort desired year\n",
    "solar_data_df['Calendar Date']= pd.to_datetime(solar_data_df['Calendar Date'], errors = 'coerce')\n",
    "solar_eclipse_2016 = solar_data_df[solar_data_df['Calendar Date'].dt.year == 2016]\n",
    "\n",
    "#Lunar eclipse\n",
    "#sort desired columns\n",
    "lunar_data_df = lunar_df[['Calendar Date', 'Eclipse Time', 'Gamma', 'Penumbral Eclipse Duration (m)', \\\n",
    "                             'Partial Eclipse Duration (m)', 'Total Eclipse Duration (m)']].copy()\n",
    "#sort desired year\n",
    "lunar_data_df['Calendar Date']= pd.to_datetime(lunar_data_df['Calendar Date'], errors = 'coerce')\n",
    "lunar_eclipse_2016 = lunar_data_df[lunar_data_df['Calendar Date'].dt.year == 2016]\n",
    "\n",
    "#Full Moon\n",
    "#fix columns by renaming (removing space before name)\n",
    "full_moon_data_df.columns = ['Day', 'Calendar Date', 'Time']\n",
    "\n",
    "#set column date as date_time and sort to get desired year\n",
    "full_moon_data_df['Calendar Date']= pd.to_datetime(full_moon_data_df['Calendar Date'])\n",
    "full_moon_2016 = full_moon_data_df[full_moon_data_df['Calendar Date'].dt.year == 2016]"
   ]
  },
  {
   "cell_type": "code",
   "execution_count": 3,
   "metadata": {},
   "outputs": [
    {
     "data": {
      "text/html": [
       "<div>\n",
       "<style scoped>\n",
       "    .dataframe tbody tr th:only-of-type {\n",
       "        vertical-align: middle;\n",
       "    }\n",
       "\n",
       "    .dataframe tbody tr th {\n",
       "        vertical-align: top;\n",
       "    }\n",
       "\n",
       "    .dataframe thead th {\n",
       "        text-align: right;\n",
       "    }\n",
       "</style>\n",
       "<table border=\"1\" class=\"dataframe\">\n",
       "  <thead>\n",
       "    <tr style=\"text-align: right;\">\n",
       "      <th></th>\n",
       "      <th>Day</th>\n",
       "      <th>Calendar Date</th>\n",
       "      <th>Time</th>\n",
       "    </tr>\n",
       "  </thead>\n",
       "  <tbody>\n",
       "    <tr>\n",
       "      <th>1435</th>\n",
       "      <td>Sunday</td>\n",
       "      <td>2016-01-24</td>\n",
       "      <td>02:45:48 am</td>\n",
       "    </tr>\n",
       "    <tr>\n",
       "      <th>1436</th>\n",
       "      <td>Monday</td>\n",
       "      <td>2016-02-22</td>\n",
       "      <td>07:19:54 pm</td>\n",
       "    </tr>\n",
       "    <tr>\n",
       "      <th>1437</th>\n",
       "      <td>Wednesday</td>\n",
       "      <td>2016-03-23</td>\n",
       "      <td>01:00:54 pm</td>\n",
       "    </tr>\n",
       "    <tr>\n",
       "      <th>1438</th>\n",
       "      <td>Friday</td>\n",
       "      <td>2016-04-22</td>\n",
       "      <td>07:23:42 am</td>\n",
       "    </tr>\n",
       "    <tr>\n",
       "      <th>1439</th>\n",
       "      <td>Saturday</td>\n",
       "      <td>2016-05-21</td>\n",
       "      <td>11:14:30 pm</td>\n",
       "    </tr>\n",
       "    <tr>\n",
       "      <th>1440</th>\n",
       "      <td>Monday</td>\n",
       "      <td>2016-06-20</td>\n",
       "      <td>01:02:24 pm</td>\n",
       "    </tr>\n",
       "    <tr>\n",
       "      <th>1441</th>\n",
       "      <td>Wednesday</td>\n",
       "      <td>2016-07-20</td>\n",
       "      <td>12:56:36 am</td>\n",
       "    </tr>\n",
       "    <tr>\n",
       "      <th>1442</th>\n",
       "      <td>Thursday</td>\n",
       "      <td>2016-08-18</td>\n",
       "      <td>11:26:36 am</td>\n",
       "    </tr>\n",
       "    <tr>\n",
       "      <th>1443</th>\n",
       "      <td>Friday</td>\n",
       "      <td>2016-09-16</td>\n",
       "      <td>09:05:06 pm</td>\n",
       "    </tr>\n",
       "    <tr>\n",
       "      <th>1444</th>\n",
       "      <td>Sunday</td>\n",
       "      <td>2016-10-16</td>\n",
       "      <td>06:23:06 am</td>\n",
       "    </tr>\n",
       "    <tr>\n",
       "      <th>1445</th>\n",
       "      <td>Monday</td>\n",
       "      <td>2016-11-14</td>\n",
       "      <td>02:52:06 pm</td>\n",
       "    </tr>\n",
       "    <tr>\n",
       "      <th>1446</th>\n",
       "      <td>Wednesday</td>\n",
       "      <td>2016-12-14</td>\n",
       "      <td>01:05:36 am</td>\n",
       "    </tr>\n",
       "  </tbody>\n",
       "</table>\n",
       "</div>"
      ],
      "text/plain": [
       "            Day Calendar Date          Time\n",
       "1435     Sunday    2016-01-24   02:45:48 am\n",
       "1436     Monday    2016-02-22   07:19:54 pm\n",
       "1437  Wednesday    2016-03-23   01:00:54 pm\n",
       "1438     Friday    2016-04-22   07:23:42 am\n",
       "1439   Saturday    2016-05-21   11:14:30 pm\n",
       "1440     Monday    2016-06-20   01:02:24 pm\n",
       "1441  Wednesday    2016-07-20   12:56:36 am\n",
       "1442   Thursday    2016-08-18   11:26:36 am\n",
       "1443     Friday    2016-09-16   09:05:06 pm\n",
       "1444     Sunday    2016-10-16   06:23:06 am\n",
       "1445     Monday    2016-11-14   02:52:06 pm\n",
       "1446  Wednesday    2016-12-14   01:05:36 am"
      ]
     },
     "execution_count": 3,
     "metadata": {},
     "output_type": "execute_result"
    }
   ],
   "source": [
    "#boston_crime_2016.head(20)\n",
    "#baltimore_crime_2016.head()\n",
    "#philadelphia_crime_2016.head()\n",
    "#solar_eclipse_2016.head()\n",
    "#lunar_eclipse_2016.head()\n",
    "full_moon_2016"
   ]
  },
  {
   "cell_type": "code",
   "execution_count": null,
   "metadata": {},
   "outputs": [],
   "source": []
  }
 ],
 "metadata": {
  "celltoolbar": "Raw Cell Format",
  "kernelspec": {
   "display_name": "Python [conda env:PythonData]",
   "language": "python",
   "name": "conda-env-PythonData-py"
  },
  "language_info": {
   "codemirror_mode": {
    "name": "ipython",
    "version": 3
   },
   "file_extension": ".py",
   "mimetype": "text/x-python",
   "name": "python",
   "nbconvert_exporter": "python",
   "pygments_lexer": "ipython3",
   "version": "3.6.10"
  }
 },
 "nbformat": 4,
 "nbformat_minor": 4
}
