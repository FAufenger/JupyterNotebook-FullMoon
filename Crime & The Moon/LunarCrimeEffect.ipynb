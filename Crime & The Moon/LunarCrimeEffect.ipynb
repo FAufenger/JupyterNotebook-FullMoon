{
 "cells": [
  {
   "cell_type": "markdown",
   "metadata": {},
   "source": [
    "# Prework"
   ]
  },
  {
   "cell_type": "code",
   "execution_count": null,
   "metadata": {},
   "outputs": [],
<<<<<<< Updated upstream
=======
   "source": []
  },
  {
   "cell_type": "code",
   "execution_count": null,
   "metadata": {},
   "outputs": [],
   "source": []
  },
  {
   "cell_type": "code",
   "execution_count": null,
   "metadata": {},
   "outputs": [],
>>>>>>> Stashed changes
   "source": [
    "#Random information to test the MERGE!!!!"
   ]
  },
  {
   "cell_type": "code",
   "execution_count": null,
   "metadata": {},
   "outputs": [],
   "source": [
    "#Adding new stuff to the project for testing purposes!!!"
   ]
  },
  {
   "cell_type": "code",
   "execution_count": null,
   "metadata": {},
   "outputs": [],
   "source": [
    "#import kaggle\n",
    "#kaggle.api.authenticate()\n",
    "#kaggle.api.dataset_download_files('API command here', path='Resources', unzip=True)\n",
    "\n",
    "#API commands used from Kaggle:\n",
    "#Boston: AnalyzeBoston/crimes-in-boston\n",
    "#Baltimore: sohier/crime-in-baltimore\n",
    "#Philadelphia: mchirico/philadelphiacrimedata\n",
    "#Solar & Lunar: nasa/solar-eclipses\n",
    "#Full Moon: lsind18/full-moon-calendar-1900-2050"
   ]
  },
  {
   "cell_type": "code",
   "execution_count": null,
   "metadata": {},
   "outputs": [],
   "source": [
    "# #Dependencies\n",
    "# import pandas as pd\n",
    "# import numpy as np\n",
    "# import os\n",
    "# import time\n",
    "\n",
    "# #File load\n",
    "# boston = \"Resources/boston_crime_data.csv\"\n",
    "# philadelphia = \"Resources/philadelphia_crime_data.csv\"\n",
    "# baltimore = \"Resources/balitmore_crime_data.csv\"\n",
    "\n",
    "# #Read file and store into pandas data frame\n",
    "# boston_data_df = pd.read_csv(boston, sep = ',')\n",
    "# philadelphia_data_df = pd.read_csv(philadelphia, sep = ',')\n",
    "# baltimore_data_df = pd.read_csv(baltimore, sep = ',')\n"
   ]
  },
  {
   "cell_type": "code",
   "execution_count": null,
   "metadata": {},
   "outputs": [],
   "source": [
    "#boston_data_df.head()\n",
    "#baltimore_data_df.head()\n",
    "#philadelphia_data_df.head()"
   ]
  },
  {
   "cell_type": "code",
   "execution_count": null,
   "metadata": {},
   "outputs": [],
   "source": [
    "# #Sort through data to make smaller, finding only requested year\n",
    "# #Philadephia\n",
    "# philadelphia_data_df['Dispatch_Date']= pd.to_datetime(philadelphia_data_df['Dispatch_Date'])\n",
    "# philadelphia_data_df2 = philadelphia_data_df[philadelphia_data_df['Dispatch_Date'].dt.year == 2016]\n",
    "# #Also reduce column size to fit into git repository \n",
    "# philadelphia_data_df3 = philadelphia_data_df2[['Dispatch_Date', 'Text_General_Code']].copy()\n",
    "# philadelphia_data_df3['Text_General_Code'].value_counts()\n",
    "\n",
    "# #Original files too large to upload to GitHub. \n",
    "# #Isolated year 2016, selected desired columns then saved and uploaded shortened version\n",
    "# philadelphia_data_df3.to_csv('Resources/philadelphia_data_df3.csv')"
   ]
  },
  {
   "cell_type": "code",
   "execution_count": null,
   "metadata": {},
   "outputs": [],
   "source": [
    "# #Sort through data to make smaller, finding only requested year\n",
    "# #Boston\n",
    "# boston_data_df['OCCURRED_ON_DATE']= pd.to_datetime(boston_data_df['OCCURRED_ON_DATE'])\n",
    "# boston_data_df2 = boston_data_df[boston_data_df['OCCURRED_ON_DATE'].dt.year == 2016]\n",
    "\n",
    "# #Original files too large to upload to GitHub. \n",
    "# #Isolated year 2016 then saved and uploaded shortened version\n",
    "# boston_data_df2.to_csv('Resources/boston_data_df3.csv')"
   ]
  },
  {
   "cell_type": "code",
   "execution_count": null,
   "metadata": {},
   "outputs": [],
   "source": [
    "# #Sort through data to make smaller, finding only requested year\n",
    "# #Baltimore\n",
    "# baltimore_data_df['CrimeDate']= pd.to_datetime(baltimore_data_df['CrimeDate'])\n",
    "# baltimore_data_df2 = baltimore_data_df[baltimore_data_df['CrimeDate'].dt.year == 2016]\n",
    "\n",
    "# #Original files too large to upload to GitHub. \n",
    "# #Isolated year 2016 then saved and uploaded shortened version\n",
    "# baltimore_data_df2.to_csv('Resources/baltimore_data_df3.csv')"
   ]
  },
  {
   "cell_type": "markdown",
   "metadata": {},
   "source": [
    "# Lunar cycle effects on three major cities in eastern North America\n"
   ]
  },
  {
   "cell_type": "code",
   "execution_count": 30,
   "metadata": {},
   "outputs": [],
   "source": [
    "#Dependencies\n",
    "import pandas as pd\n",
    "import numpy as np\n",
    "import os\n",
    "import time\n",
    "import matplotlib.pyplot as plt\n",
    "import seaborn as sns\n",
    "\n",
    "#Load files\n",
    "boston = \"Resources/boston_data_df3.csv\"\n",
    "philadelphia = \"Resources/philadelphia_data_df3.csv\"\n",
    "baltimore = \"Resources/baltimore_data_df3.csv\"\n",
    "solar = \"Resources/solar.csv\"\n",
    "lunar = \"Resources/lunar.csv\"\n",
    "full_moon = \"Resources/full_moon.csv\"\n",
    "\n",
    "\n",
    "#Read file and store into pandas data frame\n",
    "boston_df = pd.read_csv(boston, sep = ',')\n",
    "philadelphia_crime_2016 = pd.read_csv(philadelphia, sep = ',')\n",
    "baltimore_df = pd.read_csv(baltimore, sep = ',')\n",
    "solar_df = pd.read_csv(solar, sep = ',')\n",
    "lunar_df = pd.read_csv(lunar, sep = ',')\n",
    "full_moon_data_df = pd.read_csv(full_moon, sep = ',')\n"
   ]
  },
  {
   "cell_type": "code",
   "execution_count": 3,
   "metadata": {},
   "outputs": [],
   "source": [
    "#Shorten  data frames to get just desired columns\n",
    "#Boston\n",
    "boston_crime_2016 = boston_df[['OCCURRED_ON_DATE','OFFENSE_CODE_GROUP' ,'OFFENSE_DESCRIPTION']].copy()\n",
    "boston_crime_2016['OCCURRED_ON_DATE'] = pd.to_datetime(boston_crime_2016['OCCURRED_ON_DATE']).dt.normalize()\n",
    "boston_crime_2016.rename(columns = {'OCCURRED_ON_DATE':'Crime Date', 'OFFENSE_CODE_GROUP':'Offense Description',\n",
    "                                    'OFFENSE_DESCRIPTION':'Offense Specific' }, inplace = True)\n",
    "\n",
    "#Baltimore\n",
    "baltimore_crime_2016 = baltimore_df[['CrimeDate', 'Description', 'Weapon']].copy()\n",
    "baltimore_crime_2016.rename(columns = {'CrimeDate':'Crime Date', 'Description':'Offense Description'}, inplace = True)\n",
    "# baltimore_data_df3['Description'].value_counts()\n",
    "\n",
    "#Philadelphia: \n",
    "# data already redcued in order to fit in git hub repository\n",
    "philadelphia_crime_2016.rename(columns = {'Unnamed: 0': 'Prior Index', 'Dispatch_Date':'Crime Date', 'Text_General_Code':'Offense Description'}, inplace = True)\n",
    "#del philadelphia_crime_2016['Unnamed: 0']\n",
    "\n",
    "#Solar eclipse\n",
    "#sort desired columns\n",
    "solar_data_df = solar_df[['Calendar Date', 'Eclipse Time', 'Gamma', 'Eclipse Magnitude']].copy()\n",
    "#sort desired year\n",
    "solar_data_df['Calendar Date']= pd.to_datetime(solar_data_df['Calendar Date'], errors = 'coerce')\n",
    "solar_eclipse_2016 = solar_data_df[solar_data_df['Calendar Date'].dt.year == 2016]\n",
    "\n",
    "#Lunar eclipse\n",
    "#sort desired columns\n",
    "lunar_data_df = lunar_df[['Calendar Date', 'Eclipse Time', 'Gamma', 'Penumbral Eclipse Duration (m)', \\\n",
    "                             'Partial Eclipse Duration (m)', 'Total Eclipse Duration (m)']].copy()\n",
    "#sort desired year\n",
    "lunar_data_df['Calendar Date']= pd.to_datetime(lunar_data_df['Calendar Date'], errors = 'coerce')\n",
    "lunar_eclipse_2016 = lunar_data_df[lunar_data_df['Calendar Date'].dt.year == 2016]\n",
    "\n",
    "#Full Moon\n",
    "#fix columns by renaming (removing space before name)\n",
    "full_moon_data_df.columns = ['Day', 'Calendar Date', 'Time']\n",
    "\n",
    "#set column date as date_time and sort to get desired year\n",
    "full_moon_data_df['Calendar Date']= pd.to_datetime(full_moon_data_df['Calendar Date'])\n",
    "full_moon_2016 = full_moon_data_df[full_moon_data_df['Calendar Date'].dt.year == 2016]"
   ]
  },
  {
   "cell_type": "code",
   "execution_count": 25,
   "metadata": {},
   "outputs": [
    {
     "data": {
      "text/html": [
       "<div>\n",
       "<style scoped>\n",
       "    .dataframe tbody tr th:only-of-type {\n",
       "        vertical-align: middle;\n",
       "    }\n",
       "\n",
       "    .dataframe tbody tr th {\n",
       "        vertical-align: top;\n",
       "    }\n",
       "\n",
       "    .dataframe thead th {\n",
       "        text-align: right;\n",
       "    }\n",
       "</style>\n",
       "<table border=\"1\" class=\"dataframe\">\n",
       "  <thead>\n",
       "    <tr style=\"text-align: right;\">\n",
       "      <th></th>\n",
       "      <th>Day</th>\n",
       "      <th>Calendar Date</th>\n",
       "      <th>Time</th>\n",
       "    </tr>\n",
       "  </thead>\n",
       "  <tbody>\n",
       "    <tr>\n",
       "      <th>1435</th>\n",
       "      <td>Sunday</td>\n",
       "      <td>2016-01-24</td>\n",
       "      <td>02:45:48 am</td>\n",
       "    </tr>\n",
       "    <tr>\n",
       "      <th>1436</th>\n",
       "      <td>Monday</td>\n",
       "      <td>2016-02-22</td>\n",
       "      <td>07:19:54 pm</td>\n",
       "    </tr>\n",
       "    <tr>\n",
       "      <th>1437</th>\n",
       "      <td>Wednesday</td>\n",
       "      <td>2016-03-23</td>\n",
       "      <td>01:00:54 pm</td>\n",
       "    </tr>\n",
       "    <tr>\n",
       "      <th>1438</th>\n",
       "      <td>Friday</td>\n",
       "      <td>2016-04-22</td>\n",
       "      <td>07:23:42 am</td>\n",
       "    </tr>\n",
       "    <tr>\n",
       "      <th>1439</th>\n",
       "      <td>Saturday</td>\n",
       "      <td>2016-05-21</td>\n",
       "      <td>11:14:30 pm</td>\n",
       "    </tr>\n",
       "    <tr>\n",
       "      <th>1440</th>\n",
       "      <td>Monday</td>\n",
       "      <td>2016-06-20</td>\n",
       "      <td>01:02:24 pm</td>\n",
       "    </tr>\n",
       "    <tr>\n",
       "      <th>1441</th>\n",
       "      <td>Wednesday</td>\n",
       "      <td>2016-07-20</td>\n",
       "      <td>12:56:36 am</td>\n",
       "    </tr>\n",
       "    <tr>\n",
       "      <th>1442</th>\n",
       "      <td>Thursday</td>\n",
       "      <td>2016-08-18</td>\n",
       "      <td>11:26:36 am</td>\n",
       "    </tr>\n",
       "    <tr>\n",
       "      <th>1443</th>\n",
       "      <td>Friday</td>\n",
       "      <td>2016-09-16</td>\n",
       "      <td>09:05:06 pm</td>\n",
       "    </tr>\n",
       "    <tr>\n",
       "      <th>1444</th>\n",
       "      <td>Sunday</td>\n",
       "      <td>2016-10-16</td>\n",
       "      <td>06:23:06 am</td>\n",
       "    </tr>\n",
       "    <tr>\n",
       "      <th>1445</th>\n",
       "      <td>Monday</td>\n",
       "      <td>2016-11-14</td>\n",
       "      <td>02:52:06 pm</td>\n",
       "    </tr>\n",
       "    <tr>\n",
       "      <th>1446</th>\n",
       "      <td>Wednesday</td>\n",
       "      <td>2016-12-14</td>\n",
       "      <td>01:05:36 am</td>\n",
       "    </tr>\n",
       "  </tbody>\n",
       "</table>\n",
       "</div>"
      ],
      "text/plain": [
       "            Day Calendar Date          Time\n",
       "1435     Sunday    2016-01-24   02:45:48 am\n",
       "1436     Monday    2016-02-22   07:19:54 pm\n",
       "1437  Wednesday    2016-03-23   01:00:54 pm\n",
       "1438     Friday    2016-04-22   07:23:42 am\n",
       "1439   Saturday    2016-05-21   11:14:30 pm\n",
       "1440     Monday    2016-06-20   01:02:24 pm\n",
       "1441  Wednesday    2016-07-20   12:56:36 am\n",
       "1442   Thursday    2016-08-18   11:26:36 am\n",
       "1443     Friday    2016-09-16   09:05:06 pm\n",
       "1444     Sunday    2016-10-16   06:23:06 am\n",
       "1445     Monday    2016-11-14   02:52:06 pm\n",
       "1446  Wednesday    2016-12-14   01:05:36 am"
      ]
     },
     "execution_count": 25,
     "metadata": {},
     "output_type": "execute_result"
    }
   ],
   "source": [
    "#boston_crime_2016['Offense Description'].value_counts()\n",
    "#baltimore_crime_2016.head(20)\n",
    "#philadelphia_crime_2016.head(20)\n",
    "#solar_eclipse_2016.head()\n",
    "#lunar_eclipse_2016.head()\n",
    "full_moon_2016"
   ]
  },
  {
   "cell_type": "code",
   "execution_count": 48,
   "metadata": {},
   "outputs": [
    {
     "name": "stderr",
     "output_type": "stream",
     "text": [
      "C:\\Users\\Richa\\anaconda3\\envs\\PythonData\\lib\\site-packages\\ipykernel_launcher.py:9: MatplotlibDeprecationWarning: Adding an axes using the same arguments as a previous axes currently reuses the earlier instance.  In a future version, a new instance will always be created and returned.  Meanwhile, this warning can be suppressed, and the future behavior ensured, by passing a unique label to each axes instance.\n",
      "  if __name__ == '__main__':\n"
     ]
    },
    {
     "data": {
      "image/png": "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\n",
      "text/plain": [
       "<Figure size 432x288 with 1 Axes>"
      ]
     },
     "metadata": {
      "needs_background": "light"
     },
     "output_type": "display_data"
    }
   ],
   "source": [
    "boston_crime_jan = boston_crime_2016[boston_crime_2016['Crime Date'].dt.month == 1]\n",
    "boston_crime_jan.sort_values('Crime Date').reset_index(drop=True)\n",
    "\n",
    "boston_crime_jan24 = boston_crime_jan[boston_crime_jan['Crime Date'].dt.day == 24]\n",
    "#boston_crime_jan\n",
    "#boston_crime_jan24\n",
    "\n",
    "boston_crime_jan['Crime Date'].value_counts().plot(kind='bar')\n",
    "plt.show()"
   ]
  },
  {
   "cell_type": "code",
   "execution_count": 38,
   "metadata": {},
   "outputs": [
    {
     "data": {
      "image/png": "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\n",
      "text/plain": [
       "<Figure size 432x288 with 1 Axes>"
      ]
     },
     "metadata": {
      "needs_background": "light"
     },
     "output_type": "display_data"
    }
   ],
   "source": [
    "boston_crime_feb = boston_crime_2016[boston_crime_2016['Crime Date'].dt.month == 2]\n",
    "boston_crime_feb22 = boston_crime_jan[boston_crime_jan['Crime Date'].dt.day == 22]\n",
    "#boston_crime_feb\n",
    "#boston_crime_feb22\n",
    "\n",
    "boston_crime_feb['Crime Date'].value_counts().plot(kind='bar')\n",
    "plt.show()"
   ]
  },
  {
   "cell_type": "code",
   "execution_count": 41,
   "metadata": {},
   "outputs": [
    {
     "ename": "ValueError",
     "evalue": "x and y must have same first dimension, but have shapes (31,) and (7835,)",
     "output_type": "error",
     "traceback": [
      "\u001b[1;31m---------------------------------------------------------------------------\u001b[0m",
      "\u001b[1;31mValueError\u001b[0m                                Traceback (most recent call last)",
      "\u001b[1;32m<ipython-input-41-1b802c1a3df1>\u001b[0m in \u001b[0;36m<module>\u001b[1;34m\u001b[0m\n\u001b[0;32m      6\u001b[0m \u001b[1;33m\u001b[0m\u001b[0m\n\u001b[0;32m      7\u001b[0m \u001b[0mfig1\u001b[0m\u001b[1;33m,\u001b[0m \u001b[0max1\u001b[0m \u001b[1;33m=\u001b[0m \u001b[0mplt\u001b[0m\u001b[1;33m.\u001b[0m\u001b[0msubplots\u001b[0m\u001b[1;33m(\u001b[0m\u001b[0mfigsize\u001b[0m\u001b[1;33m=\u001b[0m\u001b[1;33m(\u001b[0m\u001b[1;36m8\u001b[0m\u001b[1;33m,\u001b[0m\u001b[1;36m6\u001b[0m\u001b[1;33m)\u001b[0m\u001b[1;33m)\u001b[0m\u001b[1;33m\u001b[0m\u001b[1;33m\u001b[0m\u001b[0m\n\u001b[1;32m----> 8\u001b[1;33m \u001b[0mplt\u001b[0m\u001b[1;33m.\u001b[0m\u001b[0mplot\u001b[0m\u001b[1;33m(\u001b[0m\u001b[0mx_axis\u001b[0m\u001b[1;33m,\u001b[0m \u001b[0my_axis\u001b[0m\u001b[1;33m)\u001b[0m\u001b[1;33m\u001b[0m\u001b[1;33m\u001b[0m\u001b[0m\n\u001b[0m\u001b[0;32m      9\u001b[0m \u001b[1;33m\u001b[0m\u001b[0m\n\u001b[0;32m     10\u001b[0m \u001b[0mplt\u001b[0m\u001b[1;33m.\u001b[0m\u001b[0mshow\u001b[0m\u001b[1;33m(\u001b[0m\u001b[1;33m)\u001b[0m\u001b[1;33m\u001b[0m\u001b[1;33m\u001b[0m\u001b[0m\n",
      "\u001b[1;32m~\\anaconda3\\envs\\PythonData\\lib\\site-packages\\matplotlib\\pyplot.py\u001b[0m in \u001b[0;36mplot\u001b[1;34m(scalex, scaley, data, *args, **kwargs)\u001b[0m\n\u001b[0;32m   2761\u001b[0m     return gca().plot(\n\u001b[0;32m   2762\u001b[0m         *args, scalex=scalex, scaley=scaley, **({\"data\": data} if data\n\u001b[1;32m-> 2763\u001b[1;33m         is not None else {}), **kwargs)\n\u001b[0m\u001b[0;32m   2764\u001b[0m \u001b[1;33m\u001b[0m\u001b[0m\n\u001b[0;32m   2765\u001b[0m \u001b[1;33m\u001b[0m\u001b[0m\n",
      "\u001b[1;32m~\\anaconda3\\envs\\PythonData\\lib\\site-packages\\matplotlib\\axes\\_axes.py\u001b[0m in \u001b[0;36mplot\u001b[1;34m(self, scalex, scaley, data, *args, **kwargs)\u001b[0m\n\u001b[0;32m   1645\u001b[0m         \"\"\"\n\u001b[0;32m   1646\u001b[0m         \u001b[0mkwargs\u001b[0m \u001b[1;33m=\u001b[0m \u001b[0mcbook\u001b[0m\u001b[1;33m.\u001b[0m\u001b[0mnormalize_kwargs\u001b[0m\u001b[1;33m(\u001b[0m\u001b[0mkwargs\u001b[0m\u001b[1;33m,\u001b[0m \u001b[0mmlines\u001b[0m\u001b[1;33m.\u001b[0m\u001b[0mLine2D\u001b[0m\u001b[1;33m)\u001b[0m\u001b[1;33m\u001b[0m\u001b[1;33m\u001b[0m\u001b[0m\n\u001b[1;32m-> 1647\u001b[1;33m         \u001b[0mlines\u001b[0m \u001b[1;33m=\u001b[0m \u001b[1;33m[\u001b[0m\u001b[1;33m*\u001b[0m\u001b[0mself\u001b[0m\u001b[1;33m.\u001b[0m\u001b[0m_get_lines\u001b[0m\u001b[1;33m(\u001b[0m\u001b[1;33m*\u001b[0m\u001b[0margs\u001b[0m\u001b[1;33m,\u001b[0m \u001b[0mdata\u001b[0m\u001b[1;33m=\u001b[0m\u001b[0mdata\u001b[0m\u001b[1;33m,\u001b[0m \u001b[1;33m**\u001b[0m\u001b[0mkwargs\u001b[0m\u001b[1;33m)\u001b[0m\u001b[1;33m]\u001b[0m\u001b[1;33m\u001b[0m\u001b[1;33m\u001b[0m\u001b[0m\n\u001b[0m\u001b[0;32m   1648\u001b[0m         \u001b[1;32mfor\u001b[0m \u001b[0mline\u001b[0m \u001b[1;32min\u001b[0m \u001b[0mlines\u001b[0m\u001b[1;33m:\u001b[0m\u001b[1;33m\u001b[0m\u001b[1;33m\u001b[0m\u001b[0m\n\u001b[0;32m   1649\u001b[0m             \u001b[0mself\u001b[0m\u001b[1;33m.\u001b[0m\u001b[0madd_line\u001b[0m\u001b[1;33m(\u001b[0m\u001b[0mline\u001b[0m\u001b[1;33m)\u001b[0m\u001b[1;33m\u001b[0m\u001b[1;33m\u001b[0m\u001b[0m\n",
      "\u001b[1;32m~\\anaconda3\\envs\\PythonData\\lib\\site-packages\\matplotlib\\axes\\_base.py\u001b[0m in \u001b[0;36m__call__\u001b[1;34m(self, *args, **kwargs)\u001b[0m\n\u001b[0;32m    214\u001b[0m                 \u001b[0mthis\u001b[0m \u001b[1;33m+=\u001b[0m \u001b[0margs\u001b[0m\u001b[1;33m[\u001b[0m\u001b[1;36m0\u001b[0m\u001b[1;33m]\u001b[0m\u001b[1;33m,\u001b[0m\u001b[1;33m\u001b[0m\u001b[1;33m\u001b[0m\u001b[0m\n\u001b[0;32m    215\u001b[0m                 \u001b[0margs\u001b[0m \u001b[1;33m=\u001b[0m \u001b[0margs\u001b[0m\u001b[1;33m[\u001b[0m\u001b[1;36m1\u001b[0m\u001b[1;33m:\u001b[0m\u001b[1;33m]\u001b[0m\u001b[1;33m\u001b[0m\u001b[1;33m\u001b[0m\u001b[0m\n\u001b[1;32m--> 216\u001b[1;33m             \u001b[1;32myield\u001b[0m \u001b[1;32mfrom\u001b[0m \u001b[0mself\u001b[0m\u001b[1;33m.\u001b[0m\u001b[0m_plot_args\u001b[0m\u001b[1;33m(\u001b[0m\u001b[0mthis\u001b[0m\u001b[1;33m,\u001b[0m \u001b[0mkwargs\u001b[0m\u001b[1;33m)\u001b[0m\u001b[1;33m\u001b[0m\u001b[1;33m\u001b[0m\u001b[0m\n\u001b[0m\u001b[0;32m    217\u001b[0m \u001b[1;33m\u001b[0m\u001b[0m\n\u001b[0;32m    218\u001b[0m     \u001b[1;32mdef\u001b[0m \u001b[0mget_next_color\u001b[0m\u001b[1;33m(\u001b[0m\u001b[0mself\u001b[0m\u001b[1;33m)\u001b[0m\u001b[1;33m:\u001b[0m\u001b[1;33m\u001b[0m\u001b[1;33m\u001b[0m\u001b[0m\n",
      "\u001b[1;32m~\\anaconda3\\envs\\PythonData\\lib\\site-packages\\matplotlib\\axes\\_base.py\u001b[0m in \u001b[0;36m_plot_args\u001b[1;34m(self, tup, kwargs)\u001b[0m\n\u001b[0;32m    340\u001b[0m \u001b[1;33m\u001b[0m\u001b[0m\n\u001b[0;32m    341\u001b[0m         \u001b[1;32mif\u001b[0m \u001b[0mx\u001b[0m\u001b[1;33m.\u001b[0m\u001b[0mshape\u001b[0m\u001b[1;33m[\u001b[0m\u001b[1;36m0\u001b[0m\u001b[1;33m]\u001b[0m \u001b[1;33m!=\u001b[0m \u001b[0my\u001b[0m\u001b[1;33m.\u001b[0m\u001b[0mshape\u001b[0m\u001b[1;33m[\u001b[0m\u001b[1;36m0\u001b[0m\u001b[1;33m]\u001b[0m\u001b[1;33m:\u001b[0m\u001b[1;33m\u001b[0m\u001b[1;33m\u001b[0m\u001b[0m\n\u001b[1;32m--> 342\u001b[1;33m             raise ValueError(f\"x and y must have same first dimension, but \"\n\u001b[0m\u001b[0;32m    343\u001b[0m                              f\"have shapes {x.shape} and {y.shape}\")\n\u001b[0;32m    344\u001b[0m         \u001b[1;32mif\u001b[0m \u001b[0mx\u001b[0m\u001b[1;33m.\u001b[0m\u001b[0mndim\u001b[0m \u001b[1;33m>\u001b[0m \u001b[1;36m2\u001b[0m \u001b[1;32mor\u001b[0m \u001b[0my\u001b[0m\u001b[1;33m.\u001b[0m\u001b[0mndim\u001b[0m \u001b[1;33m>\u001b[0m \u001b[1;36m2\u001b[0m\u001b[1;33m:\u001b[0m\u001b[1;33m\u001b[0m\u001b[1;33m\u001b[0m\u001b[0m\n",
      "\u001b[1;31mValueError\u001b[0m: x and y must have same first dimension, but have shapes (31,) and (7835,)"
     ]
    },
    {
     "data": {
      "image/png": "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\n",
      "text/plain": [
       "<Figure size 576x432 with 1 Axes>"
      ]
     },
     "metadata": {
      "needs_background": "light"
     },
     "output_type": "display_data"
    }
   ],
   "source": [
    "boston_crime_jan = boston_crime_2016[boston_crime_2016['Crime Date'].dt.month == 1]\n",
    "boston_crime_jan24 = boston_crime_jan[boston_crime_jan['Crime Date'].dt.day == 24]\n",
    "\n",
    "x_axis = boston_crime_jan['Crime Date']\n",
    "y_axis = boston_crime_jan['Crime Date'].value_counts()\n",
    "\n",
    "fig1, ax1 = plt.subplots(figsize=(8,6))\n",
    "plt.plot(x_axis, y_axis)\n",
    "\n",
    "plt.show()"
   ]
  },
  {
   "cell_type": "code",
   "execution_count": null,
   "metadata": {},
   "outputs": [],
   "source": [
    "#look at full moon day and find percentage of crime for the month that occured on that day\n",
    "\n",
    "#Add all full moon percentages and compare to whole year percentage\n",
    "\n",
    "#specific type of crime that happened on the full moon nights?\n",
    "\n",
    "#lunar/ solar days and crime"
   ]
  }
 ],
 "metadata": {
  "celltoolbar": "Raw Cell Format",
  "kernelspec": {
   "display_name": "Python [conda env:PythonData]",
   "language": "python",
   "name": "conda-env-PythonData-py"
  },
  "language_info": {
   "codemirror_mode": {
    "name": "ipython",
    "version": 3
   },
   "file_extension": ".py",
   "mimetype": "text/x-python",
   "name": "python",
   "nbconvert_exporter": "python",
   "pygments_lexer": "ipython3",
   "version": "3.6.10"
  }
 },
 "nbformat": 4,
 "nbformat_minor": 4
}
