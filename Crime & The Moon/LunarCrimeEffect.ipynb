{
 "cells": [
  {
   "cell_type": "markdown",
   "metadata": {},
   "source": [
    "# Prework"
   ]
  },
  {
   "cell_type": "code",
   "execution_count": null,
   "metadata": {},
   "outputs": [],
   "source": []
  },
  {
   "cell_type": "markdown",
   "metadata": {},
   "source": [
    "possible issues with data- \n",
    "1. some crimes were never reported\n",
    "2. false crimes reported (either never happened or found later in court to not have been a crime)\n",
    "3. holidays effect on crime"
   ]
  },
  {
   "cell_type": "markdown",
   "metadata": {},
   "source": [
    "hypotheses: days with full moons have more crime\n",
    "\n",
    "null hypotheses: full moons have no effeect on crime rates"
   ]
  },
  {
   "cell_type": "code",
   "execution_count": null,
   "metadata": {},
   "outputs": [],
   "source": [
    "#import kaggle       \n",
    "#kaggle.api.authenticate()\n",
    "#kaggle.api.dataset_download_files('API command here', path='Resources', unzip=True)\n",
    "\n",
    "#API commands used from Kaggle:\n",
    "#Boston: AnalyzeBoston/crimes-in-boston\n",
    "#Baltimore: sohier/crime-in-baltimore\n",
    "#Philadelphia: mchirico/philadelphiacrimedata\n",
    "#Solar & Lunar: nasa/solar-eclipses\n",
    "#Full Moon: lsind18/full-moon-calendar-1900-2050"
   ]
  },
  {
   "cell_type": "code",
   "execution_count": null,
   "metadata": {},
   "outputs": [],
   "source": [
    "# #Dependencies\n",
    "# import pandas as pd\n",
    "# import numpy as np\n",
    "# import os\n",
    "# import time\n",
    "\n",
    "# #File load\n",
    "# boston = \"Resources/boston_crime_data.csv\"\n",
    "# philadelphia = \"Resources/philadelphia_crime_data.csv\"\n",
    "# baltimore = \"Resources/balitmore_crime_data.csv\"\n",
    "\n",
    "# #Read file and store into pandas data frame\n",
    "# boston_data_df = pd.read_csv(boston, sep = ',')\n",
    "# philadelphia_data_df = pd.read_csv(philadelphia, sep = ',')\n",
    "# baltimore_data_df = pd.read_csv(baltimore, sep = ',')\n"
   ]
  },
  {
   "cell_type": "code",
   "execution_count": null,
   "metadata": {},
   "outputs": [],
   "source": [
    "#boston_data_df.head()\n",
    "#baltimore_data_df.head()\n",
    "#philadelphia_data_df.head()"
   ]
  },
  {
   "cell_type": "code",
   "execution_count": null,
   "metadata": {},
   "outputs": [],
   "source": [
    "# #Sort through data to make smaller, finding only requested year\n",
    "# #Philadephia\n",
    "# philadelphia_data_df['Dispatch_Date']= pd.to_datetime(philadelphia_data_df['Dispatch_Date'])\n",
    "# philadelphia_data_df2 = philadelphia_data_df[philadelphia_data_df['Dispatch_Date'].dt.year == 2016]\n",
    "# #Also reduce column size to fit into git repository \n",
    "# philadelphia_data_df3 = philadelphia_data_df2[['Dispatch_Date', 'Text_General_Code']].copy()\n",
    "# philadelphia_data_df3['Text_General_Code'].value_counts()\n",
    "\n",
    "# #Original files too large to upload to GitHub. \n",
    "# #Isolated year 2016, selected desired columns then saved and uploaded shortened version\n",
    "# philadelphia_data_df3.to_csv('Resources/philadelphia_data_df3.csv')"
   ]
  },
  {
   "cell_type": "code",
   "execution_count": null,
   "metadata": {},
   "outputs": [],
   "source": [
    "# #Sort through data to make smaller, finding only requested year\n",
    "# #Boston\n",
    "# boston_data_df['OCCURRED_ON_DATE']= pd.to_datetime(boston_data_df['OCCURRED_ON_DATE'])\n",
    "# boston_data_df2 = boston_data_df[boston_data_df['OCCURRED_ON_DATE'].dt.year == 2016]\n",
    "\n",
    "# #Original files too large to upload to GitHub. \n",
    "# #Isolated year 2016 then saved and uploaded shortened version\n",
    "# boston_data_df2.to_csv('Resources/boston_data_df3.csv')"
   ]
  },
  {
   "cell_type": "code",
   "execution_count": null,
   "metadata": {},
   "outputs": [],
   "source": [
    "# #Sort through data to make smaller, finding only requested year\n",
    "# #Baltimore\n",
    "# baltimore_data_df['CrimeDate']= pd.to_datetime(baltimore_data_df['CrimeDate'])\n",
    "# baltimore_data_df2 = baltimore_data_df[baltimore_data_df['CrimeDate'].dt.year == 2016]\n",
    "\n",
    "# #Original files too large to upload to GitHub. \n",
    "# #Isolated year 2016 then saved and uploaded shortened version\n",
    "# baltimore_data_df2.to_csv('Resources/baltimore_data_df3.csv')"
   ]
  },
  {
   "cell_type": "markdown",
   "metadata": {},
   "source": [
    "#!curl"
   ]
  },
  {
   "cell_type": "markdown",
   "metadata": {},
   "source": [
    "# Lunar cycle effects on three major cities in eastern North America\n"
   ]
  },
  {
   "cell_type": "code",
   "execution_count": 1,
   "metadata": {},
   "outputs": [],
   "source": [
    "#Dependencies\n",
    "import pandas as pd\n",
    "import numpy as np\n",
    "import os\n",
    "import time\n",
    "import matplotlib\n",
    "import matplotlib.pyplot as plt\n",
    "import matplotlib.dates as mdates\n",
    "import seaborn as sns\n",
    "import itertools\n",
    "%matplotlib inline\n",
    "\n",
    "#Load files\n",
    "boston = \"Resources/boston_data_df3.csv\"\n",
    "philadelphia = \"Resources/philadelphia_data_df3.csv\"\n",
    "baltimore = \"Resources/baltimore_data_df3.csv\"\n",
    "solar = \"Resources/solar.csv\"\n",
    "lunar = \"Resources/lunar.csv\"\n",
    "full_moon = \"Resources/full_moon.csv\"\n",
    "\n",
    "\n",
    "#Read file and store into pandas data frame\n",
    "boston_df = pd.read_csv(boston, sep = ',')\n",
    "philadelphia_crime_2016 = pd.read_csv(philadelphia, sep = ',')\n",
    "baltimore_df = pd.read_csv(baltimore, sep = ',')\n",
    "solar_df = pd.read_csv(solar, sep = ',')\n",
    "lunar_df = pd.read_csv(lunar, sep = ',')\n",
    "full_moon_data_df = pd.read_csv(full_moon, sep = ',')\n"
   ]
  },
  {
   "cell_type": "code",
   "execution_count": 2,
   "metadata": {},
   "outputs": [],
   "source": [
    "#Shorten  data frames to get just desired columns\n",
    "#Boston\n",
    "boston_crime_2016 = boston_df[['OCCURRED_ON_DATE','OFFENSE_CODE_GROUP' ,'OFFENSE_DESCRIPTION']].copy()\n",
    "boston_crime_2016['OCCURRED_ON_DATE'] = pd.to_datetime(boston_crime_2016['OCCURRED_ON_DATE']).dt.normalize()\n",
    "boston_crime_2016.rename(columns = {'OCCURRED_ON_DATE':'Crime Date', 'OFFENSE_CODE_GROUP':'Offense Description',\n",
    "                                    'OFFENSE_DESCRIPTION':'Offense Specific' }, inplace = True)\n",
    "boston_crime_drop = boston_crime_2016.drop('Offense Specific', 1)\n",
    "\n",
    "#Baltimore\n",
    "baltimore_crime_2016 = baltimore_df[['CrimeDate', 'Description', 'Weapon']].copy()\n",
    "baltimore_crime_2016.rename(columns = {'CrimeDate':'Crime Date', 'Description':'Offense Description'}, inplace = True)\n",
    "# baltimore_data_df3['Description'].value_counts()\n",
    "\n",
    "#Philadelphia: \n",
    "# data already redcued in order to fit in git hub repository\n",
    "philadelphia_crime_2016.rename(columns = {'Unnamed: 0': 'Prior Index', 'Dispatch_Date':'Crime Date', 'Text_General_Code':'Offense Description'}, inplace = True)\n",
    "#del philadelphia_crime_2016['Unnamed: 0']\n",
    "\n",
    "#Solar eclipse\n",
    "#sort desired columns\n",
    "solar_data_df = solar_df[['Calendar Date', 'Eclipse Time', 'Gamma', 'Eclipse Magnitude']].copy()\n",
    "#sort desired year\n",
    "solar_data_df['Calendar Date']= pd.to_datetime(solar_data_df['Calendar Date'], errors = 'coerce')\n",
    "solar_eclipse_2016 = solar_data_df[solar_data_df['Calendar Date'].dt.year == 2016]\n",
    "\n",
    "#Lunar eclipse\n",
    "#sort desired columns\n",
    "lunar_data_df = lunar_df[['Calendar Date', 'Eclipse Time', 'Gamma', 'Penumbral Eclipse Duration (m)', \\\n",
    "                             'Partial Eclipse Duration (m)', 'Total Eclipse Duration (m)']].copy()\n",
    "#sort desired year\n",
    "lunar_data_df['Calendar Date']= pd.to_datetime(lunar_data_df['Calendar Date'], errors = 'coerce')\n",
    "lunar_eclipse_2016 = lunar_data_df[lunar_data_df['Calendar Date'].dt.year == 2016]\n",
    "\n",
    "#Full Moon\n",
    "#fix columns by renaming (removing space before name)\n",
    "full_moon_data_df.columns = ['Day', 'Calendar Date', 'Time']\n",
    "\n",
    "#set column date as date_time and sort to get desired year\n",
    "full_moon_data_df['Calendar Date']= pd.to_datetime(full_moon_data_df['Calendar Date'])\n",
    "full_moon_2016 = full_moon_data_df[full_moon_data_df['Calendar Date'].dt.year == 2016]"
   ]
  },
  {
   "cell_type": "code",
   "execution_count": 3,
   "metadata": {},
   "outputs": [],
   "source": [
    "#boston_crime_2016.head()\n",
    "#baltimore_crime_2016.head(20)\n",
    "#philadelphia_crime_2016.head(20)\n",
    "#solar_eclipse_2016.head()\n",
    "#lunar_eclipse_2016.head()\n",
    "#full_moon_2016"
   ]
  },
  {
   "cell_type": "code",
   "execution_count": 4,
   "metadata": {},
   "outputs": [],
   "source": [
    "## Other styples of Bar Graphs\n",
    "\n",
    "#value_count = boston_crime_feb['Crime Date'].value_counts()\n",
    "#value_count = boston_crime_feb['Crime Date'].value_counts(sort=False)\n",
    "\n",
    "#month_values = boston_crime_feb['Crime Date'].unique()\n",
    "#boston_crime_feb_test = boston_crime_feb['Crime Day': ]\n",
    "#day = mdates.DayLocator()\n",
    "\n",
    "#lists = sorted(itertools.izip(*[month_values, value_count]))\n",
    "#new_x, new_y = zip(*sorted(zip(month_values, value_count)))\n",
    "#sns.barplot(x = month_values, y= value_count)\n",
    "\n",
    "# x= np.arange(len(month_values))\n",
    "# fig, ax = plt.subplots()\n",
    "# ax.bar(month_values, value_count)\n",
    "# ax.set_xticks(x)\n",
    "# ax.set_xticklabels(month_values)\n",
    "\n",
    "#boston_crime_feb_group = boston_crime_feb.groupby(['Crime Date'])\n",
    "#boston_crime_feb_group.count().plot(kind='bar')\n",
    "\n",
    "#boston_crime_feb['Crime Date'].value_counts().sort_index().plot(kind='bar')\n",
    "#x_axis.format_xdata = mdates.DateFormatter('%Y-%m-%d')"
   ]
  },
  {
   "cell_type": "code",
   "execution_count": 55,
   "metadata": {},
   "outputs": [
    {
     "name": "stdout",
     "output_type": "stream",
     "text": [
      "January in Boston:\n",
      "Total number of crimes reported: 7835\n",
      "Average number of crimes per day for whole month: 252\n",
      "The maximum crime committed on one day: 354\n",
      "The minimum crime committed on one day: 184\n",
      "Total crime on full mon (Jan 24th): 194\n",
      "Percentage of monthy crime that occured on day of the full moon: 2.48%\n",
      "Rank of crime on full moon: 28/31\n"
     ]
    },
    {
     "data": {
      "text/plain": [
       "354"
      ]
     },
     "execution_count": 55,
     "metadata": {},
     "output_type": "execute_result"
    }
   ],
   "source": [
    "#Boston Crime January Data\n",
    "boston_crime_jan_unsorted = boston_crime_drop[boston_crime_drop['Crime Date'].dt.month == 1]\n",
    "boston_crime_jan = boston_crime_jan_unsorted.sort_values(by=\"Crime Date\")\n",
    "\n",
    "#To find value for day with full moon\n",
    "boston_crime_jan_24 = boston_crime_jan[boston_crime_jan['Crime Date'].dt.day == 24]\n",
    "\n",
    "day_average = f'{((boston_crime_jan_24[\"Crime Date\"].count()/boston_crime_jan[\"Crime Date\"].count())*100).round(2)}%'\n",
    "monthly_average = f'{int(boston_crime_jan[\"Crime Date\"].count()/31)}'\n",
    "\n",
    "df_total_jan = pd.DataFrame(boston_crime_jan['Crime Date'].value_counts())\n",
    "df_total_jan.columns = ['Reported Crime']\n",
    "df_total_jan['Rank'] = df_total_jan['Reported Crime'].rank(ascending=0)\n",
    "boston_jan_max = df_total_jan['Reported Crime'].max()\n",
    "boston_jan_min = df_total_jan['Reported Crime'].min()\n",
    "\n",
    "\n",
    "print(f'January in Boston:')\n",
    "print(f'Total number of crimes reported: {boston_crime_jan[\"Crime Date\"].count()}')\n",
    "print(f'Average number of crimes per day for whole month: {monthly_average}')\n",
    "print(f'The maximum crime committed on one day: {boston_jan_max}')\n",
    "print(f'The minimum crime committed on one day: {boston_jan_min}')\n",
    "print(f'Total crime on full mon (Jan 24th): {boston_crime_jan_24[\"Crime Date\"].count()}')\n",
    "print(f'Percentage of monthy crime that occured on day of the full moon: {day_average}')\n",
    "print(f'Rank of crime on full moon: 28/31')\n",
    "df_total_jan['Reported Crime'].max()"
   ]
  },
  {
   "cell_type": "code",
   "execution_count": 46,
   "metadata": {},
   "outputs": [
    {
     "data": {
      "image/png": "[encoded data removed]",
      "text/plain": [
       "<Figure size 1080x360 with 1 Axes>"
      ]
     },
     "metadata": {
      "needs_background": "light"
     },
     "output_type": "display_data"
    },
    {
     "name": "stdout",
     "output_type": "stream",
     "text": [
      "Red line is the Full Moon Crime line\n"
     ]
    }
   ],
   "source": [
    "#Boston Crime January Plot\n",
    "#Sort index by date and prepare for x-axis to be labeled by days alone\n",
    "value_count = boston_crime_jan['Crime Date'].value_counts().sort_index()\n",
    "days_month= list(range(1,32))\n",
    "x=list(range(1,32))\n",
    "\n",
    "#Plot parameters\n",
    "fig = plt.figure(figsize = (15,5))\n",
    "plt.bar(days_month, value_count, width = .5)\n",
    "\n",
    "#label plot\n",
    "plt.xticks(x)\n",
    "plt.tick_params(labelsize=16)\n",
    "plt.xlabel('Days', fontsize=18)\n",
    "plt.ylim(0,370)\n",
    "plt.ylabel('Reported Crimes', fontsize=18)\n",
    "plt.title('January 2016 Boston Crime', fontsize=20)\n",
    "\n",
    "#add line for day of full moon\n",
    "plt.axhline(y=194, color='r', linewidth=2)\n",
    "\n",
    "#labels = [\"Full Moon Crime line\"]\n",
    "#handles, _ = ax.get_legend_handles_labels()\n",
    "\n",
    "plt.legend([\"Full Moon Crime\"],prop={'size': 15})\n",
    "fig.tight_layout()\n",
    "plt.show()\n",
    "print(f'Red line is the Full Moon Crime line')"
   ]
  },
  {
   "cell_type": "code",
   "execution_count": 74,
   "metadata": {},
   "outputs": [],
   "source": [
    "#Boston Crime February Data\n",
    "boston_crime_feb_unsorted = boston_crime_drop[boston_crime_drop['Crime Date'].dt.month == 2]\n",
    "boston_crime_feb = boston_crime_feb_unsorted.sort_values(by=\"Crime Date\")\n",
    "\n",
    "#To find value for day of full moon\n",
    "boston_crime_feb22 = boston_crime_feb[boston_crime_feb['Crime Date'].dt.day == 22]\n",
    "#boston_crime_feb22.count()"
   ]
  },
  {
   "cell_type": "code",
   "execution_count": 75,
   "metadata": {},
   "outputs": [
    {
     "data": {
      "image/png": "[encoded data removed]",
      "text/plain": [
       "<Figure size 1080x360 with 1 Axes>"
      ]
     },
     "metadata": {
      "needs_background": "light"
     },
     "output_type": "display_data"
    }
   ],
   "source": [
    "#Boston Crime February Plot\n",
    "#Sort index by date and prepare for x-axis to be labeled by days alone\n",
    "value_count = boston_crime_feb['Crime Date'].value_counts().sort_index()\n",
    "days_month= list(range(1,30))\n",
    "x=list(range(1,30))\n",
    "\n",
    "#Plot parameters\n",
    "fig = plt.figure(figsize = (15,5))\n",
    "plt.bar(days_month, value_count, width = .5)\n",
    "\n",
    "#Clean and Label plot\n",
    "plt.xticks(x)\n",
    "plt.tick_params(labelsize=16)\n",
    "plt.xlabel('Days', fontsize=18)\n",
    "plt.ylim(0,350)\n",
    "plt.ylabel('Reported Crimes', fontsize=18)\n",
    "plt.title('February 2016 Boston Crime', fontsize=20)\n",
    "\n",
    "#add line for day of full moon\n",
    "plt.axhline(y=267, color='r', linewidth=2)\n",
    "fig.tight_layout()\n",
    "plt.show()\n"
   ]
  },
  {
   "cell_type": "code",
   "execution_count": 42,
   "metadata": {},
   "outputs": [],
   "source": [
    "#boston_crime_feb22['Crime Date'].value_counts()\n",
    "#month_values \n",
    "#value_count\n",
    "#boston_crime_feb.dtypes\n",
    "#boston_crime_feb_group.count()\n",
    "#days_month\n"
   ]
  },
  {
   "cell_type": "code",
   "execution_count": null,
   "metadata": {},
   "outputs": [],
   "source": []
  },
  {
   "cell_type": "code",
   "execution_count": null,
   "metadata": {},
   "outputs": [],
   "source": [
    "#look at full moon day and find percentage of crime for the month that occured on that day\n",
    "\n",
    "#Add all full moon percentages and compare to whole year percentage\n",
    "\n",
    "#specific type of crime that happened on the full moon nights?\n",
    "\n",
    "#lunar/ solar days and crime"
   ]
  },
  {
   "cell_type": "code",
   "execution_count": null,
   "metadata": {},
   "outputs": [],
   "source": []
  }
 ],
 "metadata": {
  "celltoolbar": "Raw Cell Format",
  "kernelspec": {
   "display_name": "Python [conda env:pythondata] *",
   "language": "python",
   "name": "conda-env-pythondata-py"
  },
  "language_info": {
   "codemirror_mode": {
    "name": "ipython",
    "version": 3
   },
   "file_extension": ".py",
   "mimetype": "text/x-python",
   "name": "python",
   "nbconvert_exporter": "python",
   "pygments_lexer": "ipython3",
   "version": "3.6.10"
  }
 },
 "nbformat": 4,
 "nbformat_minor": 4
}
